{
 "cells": [
  {
   "cell_type": "code",
   "execution_count": 9,
   "id": "7a61623e",
   "metadata": {},
   "outputs": [],
   "source": [
    "import re\n",
    "import pandas as pd\n",
    "import nltk\n",
    "from nltk.corpus import stopwords\n",
    "from nltk.stem import WordNetLemmatizer\n",
    "from collections import Counter, defaultdict\n",
    "import json"
   ]
  },
  {
   "cell_type": "code",
   "execution_count": 5,
   "id": "d88264d6",
   "metadata": {},
   "outputs": [
    {
     "name": "stderr",
     "output_type": "stream",
     "text": [
      "[nltk_data] Downloading package stopwords to\n",
      "[nltk_data]     C:\\Users\\schel\\AppData\\Roaming\\nltk_data...\n",
      "[nltk_data]   Unzipping corpora\\stopwords.zip.\n",
      "[nltk_data] Downloading package wordnet to\n",
      "[nltk_data]     C:\\Users\\schel\\AppData\\Roaming\\nltk_data...\n",
      "[nltk_data]   Package wordnet is already up-to-date!\n"
     ]
    }
   ],
   "source": [
    "# Define functions to allow for different levels of cleaning\n",
    "nltk.download('stopwords')\n",
    "nltk.download('wordnet')\n",
    "stop_words = set(stopwords.words('english'))\n",
    "lemmatizer = WordNetLemmatizer()\n",
    "\n",
    "def clean_raw(text):\n",
    "    return str(text).lower().split()\n",
    "\n",
    "def clean_light(text):\n",
    "    text = re.sub(r'[^\\w\\s]', '', str(text).lower())  # remove punctuation and symbols\n",
    "    # text = re.sub(r'[^a-z\\s]', '', str(text).lower())  # commented out to allow for numbers\n",
    "    tokens = text.split()\n",
    "    return [w for w in tokens if w not in stop_words]\n",
    "\n",
    "def clean_moderate(text):\n",
    "    tokens = clean_light(text)\n",
    "    return [lemmatizer.lemmatize(w) for w in tokens]"
   ]
  },
  {
   "cell_type": "code",
   "execution_count": 6,
   "id": "d8743334",
   "metadata": {},
   "outputs": [],
   "source": [
    "# Create keyword extraction function\n",
    "def extract_keywords(df, fields, cleaner_fn):\n",
    "    keyword_counter = Counter()\n",
    "\n",
    "    for _, row in df.iterrows():\n",
    "        query_tokens = set(cleaner_fn(row['query']))\n",
    "        \n",
    "        for field in fields:\n",
    "            field_tokens = set(cleaner_fn(row[field]))\n",
    "            shared = query_tokens.intersection(field_tokens)\n",
    "            keyword_counter.update(shared)\n",
    "    \n",
    "    return keyword_counter"
   ]
  },
  {
   "cell_type": "code",
   "execution_count": 7,
   "id": "07b35740",
   "metadata": {},
   "outputs": [],
   "source": [
    "df_load = pd.read_parquet(\"../data/processed/df_features.parquet\")\n",
    "df = df_load.copy()"
   ]
  },
  {
   "cell_type": "code",
   "execution_count": 8,
   "id": "be5b281e",
   "metadata": {},
   "outputs": [
    {
     "name": "stdout",
     "output_type": "stream",
     "text": [
      "Raw Top 10: [('for', 114), ('therapy', 51), ('cold', 50), ('charger', 42), ('coffee', 41), ('tobacco', 39), ('pillow', 36), ('throw', 35), ('smoking', 34), ('black', 33)]\n",
      "Light Cleaned Top 10: [('therapy', 53), ('cold', 50), ('black', 44), ('coffee', 42), ('charger', 42), ('tobacco', 40), ('pillow', 36), ('throw', 35), ('smoking', 34), ('calcium', 34)]\n",
      "Moderate Cleaned Top 10: [('pillow', 86), ('dress', 71), ('charger', 67), ('therapy', 53), ('cold', 50), ('black', 44), ('coffee', 42), ('tobacco', 40), ('bottle', 35), ('throw', 35)]\n"
     ]
    }
   ],
   "source": [
    "# Product text fields to clean\n",
    "text_columns = ['product_title', 'product_description', 'product_bullet_point', 'product_brand', 'product_color']\n",
    "\n",
    "# Clean and extract keywords\n",
    "raw_keywords = extract_keywords(df, text_columns, clean_raw)\n",
    "light_keywords = extract_keywords(df, text_columns, clean_light)\n",
    "moderate_keywords = extract_keywords(df, text_columns, clean_moderate)\n",
    "\n",
    "print(\"Raw Top 10:\", raw_keywords.most_common(10))\n",
    "print(\"Light Cleaned Top 10:\", light_keywords.most_common(10))\n",
    "print(\"Moderate Cleaned Top 10:\", moderate_keywords.most_common(10))\n"
   ]
  },
  {
   "cell_type": "code",
   "execution_count": 10,
   "id": "51db5ea6",
   "metadata": {},
   "outputs": [],
   "source": [
    "# Save extracted keywords to json dict\n",
    "raw_keywords_dict = dict(raw_keywords)\n",
    "light_keywords_dict = dict(light_keywords)\n",
    "moderate_keywords_dict = dict(moderate_keywords)\n",
    "\n",
    "with open(\"../src/text_processing/artifacts/raw_keywords.json\", \"w\") as f:\n",
    "    json.dump(raw_keywords_dict, f, indent=2)\n",
    "\n",
    "with open(\"../src/text_processing/artifacts/light_keywords.json\", \"w\") as f:\n",
    "    json.dump(light_keywords_dict, f, indent=2)\n",
    "\n",
    "with open(\"../src/text_processing/artifacts/moderate_keywords.json\", \"w\") as f:\n",
    "    json.dump(moderate_keywords_dict, f, indent=2)"
   ]
  },
  {
   "cell_type": "code",
   "execution_count": null,
   "id": "ef0af815",
   "metadata": {},
   "outputs": [],
   "source": []
  },
  {
   "cell_type": "code",
   "execution_count": null,
   "id": "3f946ece",
   "metadata": {},
   "outputs": [],
   "source": []
  }
 ],
 "metadata": {
  "kernelspec": {
   "display_name": ".venv",
   "language": "python",
   "name": "python3"
  },
  "language_info": {
   "codemirror_mode": {
    "name": "ipython",
    "version": 3
   },
   "file_extension": ".py",
   "mimetype": "text/x-python",
   "name": "python",
   "nbconvert_exporter": "python",
   "pygments_lexer": "ipython3",
   "version": "3.12.2"
  }
 },
 "nbformat": 4,
 "nbformat_minor": 5
}
