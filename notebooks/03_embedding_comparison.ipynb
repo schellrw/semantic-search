{
 "cells": [
  {
   "cell_type": "code",
   "execution_count": 9,
   "id": "14163564",
   "metadata": {},
   "outputs": [],
   "source": [
    "import pandas as pd\n",
    "import numpy as np\n",
    "from sentence_transformers import SentenceTransformer\n",
    "from sklearn.feature_extraction.text import TfidfVectorizer\n",
    "from sklearn.metrics.pairwise import cosine_similarity\n",
    "import os\n",
    "import pickle\n",
    "from scipy.sparse import save_npz"
   ]
  },
  {
   "cell_type": "code",
   "execution_count": 2,
   "id": "7bf8b77b",
   "metadata": {},
   "outputs": [],
   "source": [
    "# Load baseline dataset\n",
    "df_baseline = pd.read_parquet(\"../data/processed/df_baseline_clean.parquet\")"
   ]
  },
  {
   "cell_type": "code",
   "execution_count": 4,
   "id": "3da379b5",
   "metadata": {},
   "outputs": [
    {
     "name": "stdout",
     "output_type": "stream",
     "text": [
      "TF-IDF matrix shape: (519, 1000)\n",
      "Creating transformer embeddings with all-MiniLM-L6-v2...\n"
     ]
    },
    {
     "data": {
      "application/vnd.jupyter.widget-view+json": {
       "model_id": "7f22ca8b583f4f25ae0e74e0aafa989b",
       "version_major": 2,
       "version_minor": 0
      },
      "text/plain": [
       "Batches:   0%|          | 0/17 [00:00<?, ?it/s]"
      ]
     },
     "metadata": {},
     "output_type": "display_data"
    },
    {
     "name": "stdout",
     "output_type": "stream",
     "text": [
      "Transformer embeddings shape: (519, 384)\n"
     ]
    }
   ],
   "source": [
    "# Baseline Embedding Functions\n",
    "def create_tfidf_embeddings(df, max_features=1000):\n",
    "    \"\"\"Create TF-IDF embeddings - baseline approach\"\"\"\n",
    "    \n",
    "    # Use combined_text field created in text processing\n",
    "    texts = df['combined_text'].tolist()\n",
    "    \n",
    "    # Create TF-IDF vectorizer\n",
    "    vectorizer = TfidfVectorizer(\n",
    "        max_features=max_features,\n",
    "        stop_words='english',\n",
    "        ngram_range=(1, 2),\n",
    "        lowercase=True\n",
    "    )\n",
    "    \n",
    "    # Fit and transform\n",
    "    tfidf_matrix = vectorizer.fit_transform(texts)\n",
    "    \n",
    "    print(f\"TF-IDF matrix shape: {tfidf_matrix.shape}\")\n",
    "    return tfidf_matrix, vectorizer\n",
    "\n",
    "def create_transformer_embeddings(df, model_name=\"all-MiniLM-L6-v2\"):\n",
    "    \"\"\"Create transformer embeddings using sentence-transformers\"\"\"\n",
    "    print(f\"Creating transformer embeddings with {model_name}...\")\n",
    "    \n",
    "    # Load model\n",
    "    model = SentenceTransformer(model_name)\n",
    "    \n",
    "    # Use combined_text field\n",
    "    texts = df['combined_text'].tolist()\n",
    "    \n",
    "    # Create embeddings\n",
    "    embeddings = model.encode(texts, show_progress_bar=True)\n",
    "    \n",
    "    print(f\"Transformer embeddings shape: {embeddings.shape}\")\n",
    "    return embeddings, model\n",
    "\n",
    "# Create both baseline embeddings\n",
    "tfidf_matrix, tfidf_vectorizer = create_tfidf_embeddings(df_baseline)\n",
    "transformer_embeddings, transformer_model = create_transformer_embeddings(df_baseline)"
   ]
  },
  {
   "cell_type": "code",
   "execution_count": 5,
   "id": "eb7eb8dc",
   "metadata": {},
   "outputs": [],
   "source": [
    "# Simple Search Functions for  baseline comparison\n",
    "def tfidf_search(query, df, tfidf_matrix, vectorizer, top_k=10):\n",
    "    \"\"\"Simple TF-IDF search\"\"\"\n",
    "    # Transform query\n",
    "    query_vector = vectorizer.transform([query])\n",
    "    \n",
    "    # Compute cosine similarities\n",
    "    similarities = cosine_similarity(query_vector, tfidf_matrix).flatten()\n",
    "    \n",
    "    # Get top results\n",
    "    top_indices = similarities.argsort()[-top_k:][::-1]\n",
    "    \n",
    "    # Return results with scores\n",
    "    results = df.iloc[top_indices].copy()\n",
    "    results['score'] = similarities[top_indices]\n",
    "    \n",
    "    return results\n",
    "\n",
    "def transformer_search(query, df, embeddings, model, top_k=10):\n",
    "    \"\"\"Simple transformer search\"\"\"\n",
    "    # Encode query\n",
    "    query_embedding = model.encode([query])\n",
    "    \n",
    "    # Compute cosine similarities\n",
    "    similarities = cosine_similarity(query_embedding, embeddings).flatten()\n",
    "    \n",
    "    # Get top results  \n",
    "    top_indices = similarities.argsort()[-top_k:][::-1]\n",
    "    \n",
    "    # Return results with scores\n",
    "    results = df.iloc[top_indices].copy()\n",
    "    results['score'] = similarities[top_indices]\n",
    "    \n",
    "    return results"
   ]
  },
  {
   "cell_type": "code",
   "execution_count": 6,
   "id": "46fb35c4",
   "metadata": {},
   "outputs": [
    {
     "name": "stdout",
     "output_type": "stream",
     "text": [
      "Testing query: 'coffee maker'\n",
      "\n",
      "----  TF-IDF Results  ---\n",
      "Score: 0.750 | Outon Coffee Maker 10 Cup, Programmable Drip Coffee Maker, Multiple Brew Strengt...\n",
      "Score: 0.641 | Elite Gourmet EHC111A Maxi-Matic Personal 14oz Single-Serve Compact Coffee Maker...\n",
      "Score: 0.616 | CHULUX Single Cup Coffee Maker Machine,12 Ounce Pod Coffee Brewer,One Touch Func...\n",
      "Score: 0.589 | CHEFMAN Single Serve One Cup Coffee Maker, up to 14 Oz, InstaCoffee Brews in 30 ...\n",
      "Score: 0.550 | Single Serve K Cup Coffee Maker for K-Cup Pods and Ground Coffee, Compact Design...\n",
      "\n",
      "----  Transformer Results  ----\n",
      "Score: 0.602 | Presto 02835 MyJo Single Cup Coffee Maker, Black...\n",
      "Score: 0.593 | Cuisinart DCC-3200P1 Perfectemp Coffee Maker, 14 Cup Progammable with Glass Cara...\n",
      "Score: 0.587 | CHEFMAN Single Serve One Cup Coffee Maker, up to 14 Oz, InstaCoffee Brews in 30 ...\n",
      "Score: 0.576 | Hamilton Beach (47950) Coffee Maker with 12 Cup Capacity & Internal Storage Coff...\n",
      "Score: 0.563 | Elite Gourmet EHC111A Maxi-Matic Personal 14oz Single-Serve Compact Coffee Maker...\n"
     ]
    }
   ],
   "source": [
    "# Test both search methods\n",
    "test_query = \"coffee maker\"\n",
    "print(f\"Testing query: '{test_query}'\\n\")\n",
    "\n",
    "print(\"----  TF-IDF Results  ---\")\n",
    "tfidf_results = tfidf_search(test_query, df_baseline, tfidf_matrix, tfidf_vectorizer, top_k=5)\n",
    "for idx, row in tfidf_results.iterrows():\n",
    "    print(f\"Score: {row['score']:.3f} | {row['product_title'][:80]}...\")\n",
    "\n",
    "print(\"\\n----  Transformer Results  ----\")\n",
    "transformer_results = transformer_search(test_query, df_baseline, transformer_embeddings, transformer_model, top_k=5)\n",
    "for idx, row in transformer_results.iterrows():\n",
    "    print(f\"Score: {row['score']:.3f} | {row['product_title'][:80]}...\")"
   ]
  },
  {
   "cell_type": "code",
   "execution_count": 7,
   "id": "476702bd",
   "metadata": {},
   "outputs": [],
   "source": [
    "# Set up evaluation metrics for search systems\n",
    "def calculate_hits_at_k(search_results, relevant_product_ids, k):\n",
    "    \"\"\"Calculate HITS@K: Did any relevant products appear in top K results?\"\"\"\n",
    "    top_k_product_ids = search_results.head(k)['product_id'].tolist()\n",
    "    relevant_found = len(set(top_k_product_ids).intersection(set(relevant_product_ids)))\n",
    "    return 1 if relevant_found > 0 else 0\n",
    "\n",
    "def calculate_mrr(search_results, relevant_product_ids):\n",
    "    \"\"\"Calculate Mean Reciprocal Rank\"\"\"\n",
    "    for rank, product_id in enumerate(search_results['product_id'].tolist(), 1):\n",
    "        if product_id in relevant_product_ids:\n",
    "            return 1.0 / rank\n",
    "    return 0.0\n",
    "\n",
    "def evaluate_search_system(df, search_function, *search_args, k_values=[1, 5, 10]):\n",
    "    \"\"\"Evaluate search system using HITS@K and MRR\"\"\"\n",
    "    unique_queries = df['query'].unique()\n",
    "    \n",
    "    results = {f'hits_at_{k}': [] for k in k_values}\n",
    "    results['mrr'] = []\n",
    "    \n",
    "    print(f\"Evaluating on {len(unique_queries)} unique queries...\")\n",
    "    \n",
    "    for query in unique_queries:\n",
    "        # Find relevant products for this query\n",
    "        relevant_products = df[df['query'] == query]['product_id'].tolist()\n",
    "        \n",
    "        # Get search results\n",
    "        search_results = search_function(query, df, *search_args, top_k=max(k_values))\n",
    "        \n",
    "        # Calculate metrics\n",
    "        for k in k_values:\n",
    "            hits = calculate_hits_at_k(search_results, relevant_products, k)\n",
    "            results[f'hits_at_{k}'].append(hits)\n",
    "        \n",
    "        mrr = calculate_mrr(search_results, relevant_products)\n",
    "        results['mrr'].append(mrr)\n",
    "    \n",
    "    # Calculate averages\n",
    "    avg_results = {}\n",
    "    for metric, values in results.items():\n",
    "        avg_results[metric] = np.mean(values)\n",
    "    \n",
    "    return avg_results"
   ]
  },
  {
   "cell_type": "code",
   "execution_count": 8,
   "id": "8c7f4299",
   "metadata": {},
   "outputs": [
    {
     "name": "stdout",
     "output_type": "stream",
     "text": [
      "----  BASELINE EVALUATION RESULTS  ----\n",
      "\n",
      "--- TF-IDF Performance ---\n",
      "Evaluating on 53 unique queries...\n",
      "HITS_AT_1: 0.849\n",
      "HITS_AT_5: 0.906\n",
      "HITS_AT_10: 0.943\n",
      "MRR: 0.869\n",
      "\n",
      "--- Transformer Performance ---\n",
      "Evaluating on 53 unique queries...\n",
      "HITS_AT_1: 0.981\n",
      "HITS_AT_5: 0.981\n",
      "HITS_AT_10: 0.981\n",
      "MRR: 0.981\n",
      "\n",
      "====  SUMMARY  ====\n",
      "Better HITS@1: Transformer\n",
      "Better MRR: Transformer\n"
     ]
    }
   ],
   "source": [
    "# Evaluate both systems\n",
    "print(\"----  BASELINE EVALUATION RESULTS  ----\")\n",
    "\n",
    "print(\"\\n--- TF-IDF Performance ---\")\n",
    "tfidf_metrics = evaluate_search_system(\n",
    "    df_baseline, tfidf_search, tfidf_matrix, tfidf_vectorizer\n",
    ")\n",
    "for metric, score in tfidf_metrics.items():\n",
    "    print(f\"{metric.upper()}: {score:.3f}\")\n",
    "\n",
    "print(\"\\n--- Transformer Performance ---\")\n",
    "transformer_metrics = evaluate_search_system(\n",
    "    df_baseline, transformer_search, transformer_embeddings, transformer_model\n",
    ")\n",
    "for metric, score in transformer_metrics.items():\n",
    "    print(f\"{metric.upper()}: {score:.3f}\")\n",
    "\n",
    "print(f\"\\n====  SUMMARY  ====\")\n",
    "print(f\"Better HITS@1: {'Transformer' if transformer_metrics['hits_at_1'] > tfidf_metrics['hits_at_1'] else 'TF-IDF'}\")\n",
    "print(f\"Better MRR: {'Transformer' if transformer_metrics['mrr'] > tfidf_metrics['mrr'] else 'TF-IDF'}\")"
   ]
  },
  {
   "cell_type": "code",
   "execution_count": 10,
   "id": "02080d01",
   "metadata": {},
   "outputs": [],
   "source": [
    "# Save baseline artifacts in organized structure\n",
    "\n",
    "# Save TF-IDF components in sparse vector store\n",
    "with open(\"../src/vector_stores/baseline/tfidf_vectorizer.pkl\", \"wb\") as f:\n",
    "    pickle.dump(tfidf_vectorizer, f)\n",
    "# Save the TF-IDF matrix too!\n",
    "save_npz(\"../src/vector_stores/baseline/tfidf_matrix.npz\", tfidf_matrix)\n",
    "\n",
    "# Save transformer embeddings \n",
    "np.save(\"../src/embeddings/baseline/transformer_embeddings.npy\", transformer_embeddings)\n",
    "with open(\"../src/embeddings/baseline/transformer_model_name.txt\", \"w\") as f:\n",
    "    f.write(\"all-MiniLM-L6-v2\")\n",
    "\n",
    "# Save baseline evaluation metrics\n",
    "baseline_results = {\n",
    "    'tfidf_metrics': tfidf_metrics,\n",
    "    'transformer_metrics': transformer_metrics,\n",
    "    'dataset_info': {\n",
    "        'num_products': len(df_baseline),\n",
    "        'num_unique_queries': len(df_baseline['query'].unique()),\n",
    "        'approach': 'baseline_no_imputation'\n",
    "    }\n",
    "}\n",
    "\n",
    "with open(\"../src/evaluation/baseline/baseline_metrics.pkl\", \"wb\") as f:\n",
    "    pickle.dump(baseline_results, f)\n"
   ]
  },
  {
   "cell_type": "code",
   "execution_count": null,
   "id": "4c17bee1",
   "metadata": {},
   "outputs": [],
   "source": []
  },
  {
   "cell_type": "code",
   "execution_count": null,
   "id": "f9d5a3f7",
   "metadata": {},
   "outputs": [],
   "source": []
  },
  {
   "cell_type": "code",
   "execution_count": null,
   "id": "e96b7264",
   "metadata": {},
   "outputs": [],
   "source": []
  },
  {
   "cell_type": "code",
   "execution_count": null,
   "id": "71565bd6",
   "metadata": {},
   "outputs": [],
   "source": []
  },
  {
   "cell_type": "raw",
   "id": "30ab2b7f",
   "metadata": {
    "vscode": {
     "languageId": "raw"
    }
   },
   "source": [
    "embedding_configs = [\n",
    "    {\n",
    "        \"name\": \"title_only\",\n",
    "        \"text_field\": lambda row: clean_text_light(row['product_title']),\n",
    "        \"model\": \"all-MiniLM-L6-v2\"\n",
    "    },\n",
    "    {\n",
    "        \"name\": \"title_description\",\n",
    "        \"text_field\": lambda row: clean_text_light(f\"{row['product_title']} {row['product_description']}\"),\n",
    "        \"model\": \"all-MiniLM-L6-v2\"\n",
    "    },\n",
    "    {\n",
    "        \"name\": \"multifield_mpnet\",\n",
    "        \"text_field\": lambda row: clean_text_light(f\"{row['product_title']} {row['product_description']} {row['product_brand']}\"),\n",
    "        \"model\": \"all-mpnet-base-v2\"\n",
    "    }\n",
    "]\n",
    "\n",
    "# Create multiple indexes for comparison\n",
    "for config in embedding_configs:\n",
    "    documents = prepare_documents_with_config(df_sample, config)\n",
    "    table, model = create_vector_database(documents, config['model'])"
   ]
  },
  {
   "cell_type": "code",
   "execution_count": null,
   "id": "1d823e3f",
   "metadata": {},
   "outputs": [],
   "source": []
  },
  {
   "cell_type": "code",
   "execution_count": null,
   "id": "54643a3a",
   "metadata": {},
   "outputs": [],
   "source": []
  }
 ],
 "metadata": {
  "kernelspec": {
   "display_name": ".venv",
   "language": "python",
   "name": "python3"
  },
  "language_info": {
   "codemirror_mode": {
    "name": "ipython",
    "version": 3
   },
   "file_extension": ".py",
   "mimetype": "text/x-python",
   "name": "python",
   "nbconvert_exporter": "python",
   "pygments_lexer": "ipython3",
   "version": "3.12.2"
  }
 },
 "nbformat": 4,
 "nbformat_minor": 5
}
